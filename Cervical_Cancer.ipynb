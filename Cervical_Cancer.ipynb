{
  "cells": [
    {
      "cell_type": "code",
      "execution_count": 1,
      "id": "1d2c1001",
      "metadata": {
        "_cell_guid": "b1076dfc-b9ad-4769-8c92-a6c4dae69d19",
        "_uuid": "8f2839f25d086af736a60e9eeb907d3b93b6e0e5",
        "execution": {
          "iopub.execute_input": "2022-07-05T19:05:55.110557Z",
          "iopub.status.busy": "2022-07-05T19:05:55.109815Z",
          "iopub.status.idle": "2022-07-05T19:05:58.005234Z",
          "shell.execute_reply": "2022-07-05T19:05:58.003336Z"
        },
        "papermill": {
          "duration": 2.922552,
          "end_time": "2022-07-05T19:05:58.010995",
          "exception": false,
          "start_time": "2022-07-05T19:05:55.088443",
          "status": "completed"
        },
        "tags": [],
        "colab": {
          "base_uri": "https://localhost:8080/",
          "height": 17
        },
        "id": "1d2c1001",
        "outputId": "5134208a-90a4-4d50-8825-64ca1f484e74"
      },
      "outputs": [
        {
          "output_type": "display_data",
          "data": {
            "text/html": [
              "        <script type=\"text/javascript\">\n",
              "        window.PlotlyConfig = {MathJaxConfig: 'local'};\n",
              "        if (window.MathJax && window.MathJax.Hub && window.MathJax.Hub.Config) {window.MathJax.Hub.Config({SVG: {font: \"STIX-Web\"}});}\n",
              "        if (typeof require !== 'undefined') {\n",
              "        require.undef(\"plotly\");\n",
              "        requirejs.config({\n",
              "            paths: {\n",
              "                'plotly': ['https://cdn.plot.ly/plotly-2.18.2.min']\n",
              "            }\n",
              "        });\n",
              "        require(['plotly'], function(Plotly) {\n",
              "            window._Plotly = Plotly;\n",
              "        });\n",
              "        }\n",
              "        </script>\n",
              "        "
            ]
          },
          "metadata": {}
        }
      ],
      "source": [
        "import pandas as pd\n",
        "import numpy as np\n",
        "\n",
        "import plotly.express as px\n",
        "from plotly.subplots import make_subplots\n",
        "import plotly.graph_objects as go\n",
        "\n",
        "from sklearn.impute import SimpleImputer\n",
        "from sklearn.model_selection import StratifiedShuffleSplit\n",
        "from typing import List\n",
        "from sklearn.preprocessing import RobustScaler,StandardScaler\n",
        "from sklearn.decomposition import PCA\n",
        "from sklearn.pipeline import Pipeline\n",
        "from sklearn.linear_model import LogisticRegression\n",
        "from sklearn.metrics import accuracy_score,confusion_matrix\n",
        "from sklearn.model_selection import GridSearchCV\n",
        "from sklearn.ensemble import RandomForestClassifier, VotingClassifier\n",
        "from sklearn.neighbors import KNeighborsClassifier\n",
        "from sklearn.svm import SVC\n",
        "from sklearn.metrics import precision_recall_fscore_support\n",
        "\n",
        "#from imblearn.over_sampling import SMOTE, ADASYN\n",
        "#from imblearn.over_sampling import RandomOverSampler\n",
        "\n",
        "from plotly.offline import plot, iplot, init_notebook_mode\n",
        "init_notebook_mode(connected=True)\n",
        "\n",
        "import warnings\n",
        "warnings.filterwarnings('ignore')\n",
        "\n",
        "import os\n",
        "for dirname, _, filenames in os.walk('/kaggle/input'):\n",
        "    for filename in filenames:\n",
        "        print(os.path.join(dirname, filename))"
      ]
    },
    {
      "cell_type": "code",
      "execution_count": 2,
      "id": "bb087ac3",
      "metadata": {
        "execution": {
          "iopub.execute_input": "2022-07-05T19:05:58.086782Z",
          "iopub.status.busy": "2022-07-05T19:05:58.085579Z",
          "iopub.status.idle": "2022-07-05T19:05:58.143029Z",
          "shell.execute_reply": "2022-07-05T19:05:58.142020Z"
        },
        "papermill": {
          "duration": 0.079195,
          "end_time": "2022-07-05T19:05:58.145197",
          "exception": false,
          "start_time": "2022-07-05T19:05:58.066002",
          "status": "completed"
        },
        "tags": [],
        "colab": {
          "base_uri": "https://localhost:8080/",
          "height": 328
        },
        "id": "bb087ac3",
        "outputId": "eab7eca7-9216-48dd-ef59-557826e10653"
      },
      "outputs": [
        {
          "output_type": "error",
          "ename": "FileNotFoundError",
          "evalue": "ignored",
          "traceback": [
            "\u001b[0;31m---------------------------------------------------------------------------\u001b[0m",
            "\u001b[0;31mFileNotFoundError\u001b[0m                         Traceback (most recent call last)",
            "\u001b[0;32m<ipython-input-2-3ffc3343e7e5>\u001b[0m in \u001b[0;36m<cell line: 1>\u001b[0;34m()\u001b[0m\n\u001b[0;32m----> 1\u001b[0;31m \u001b[0mrisk_factor_df\u001b[0m \u001b[0;34m=\u001b[0m \u001b[0mpd\u001b[0m\u001b[0;34m.\u001b[0m\u001b[0mread_csv\u001b[0m\u001b[0;34m(\u001b[0m\u001b[0;34m\"cervical_cancer.csv\"\u001b[0m\u001b[0;34m)\u001b[0m\u001b[0;34m\u001b[0m\u001b[0;34m\u001b[0m\u001b[0m\n\u001b[0m\u001b[1;32m      2\u001b[0m \u001b[0mrisk_factor_df\u001b[0m\u001b[0;34m.\u001b[0m\u001b[0mhead\u001b[0m\u001b[0;34m(\u001b[0m\u001b[0;34m)\u001b[0m\u001b[0;34m\u001b[0m\u001b[0;34m\u001b[0m\u001b[0m\n",
            "\u001b[0;32m/usr/local/lib/python3.10/dist-packages/pandas/util/_decorators.py\u001b[0m in \u001b[0;36mwrapper\u001b[0;34m(*args, **kwargs)\u001b[0m\n\u001b[1;32m    209\u001b[0m                 \u001b[0;32melse\u001b[0m\u001b[0;34m:\u001b[0m\u001b[0;34m\u001b[0m\u001b[0;34m\u001b[0m\u001b[0m\n\u001b[1;32m    210\u001b[0m                     \u001b[0mkwargs\u001b[0m\u001b[0;34m[\u001b[0m\u001b[0mnew_arg_name\u001b[0m\u001b[0;34m]\u001b[0m \u001b[0;34m=\u001b[0m \u001b[0mnew_arg_value\u001b[0m\u001b[0;34m\u001b[0m\u001b[0;34m\u001b[0m\u001b[0m\n\u001b[0;32m--> 211\u001b[0;31m             \u001b[0;32mreturn\u001b[0m \u001b[0mfunc\u001b[0m\u001b[0;34m(\u001b[0m\u001b[0;34m*\u001b[0m\u001b[0margs\u001b[0m\u001b[0;34m,\u001b[0m \u001b[0;34m**\u001b[0m\u001b[0mkwargs\u001b[0m\u001b[0;34m)\u001b[0m\u001b[0;34m\u001b[0m\u001b[0;34m\u001b[0m\u001b[0m\n\u001b[0m\u001b[1;32m    212\u001b[0m \u001b[0;34m\u001b[0m\u001b[0m\n\u001b[1;32m    213\u001b[0m         \u001b[0;32mreturn\u001b[0m \u001b[0mcast\u001b[0m\u001b[0;34m(\u001b[0m\u001b[0mF\u001b[0m\u001b[0;34m,\u001b[0m \u001b[0mwrapper\u001b[0m\u001b[0;34m)\u001b[0m\u001b[0;34m\u001b[0m\u001b[0;34m\u001b[0m\u001b[0m\n",
            "\u001b[0;32m/usr/local/lib/python3.10/dist-packages/pandas/util/_decorators.py\u001b[0m in \u001b[0;36mwrapper\u001b[0;34m(*args, **kwargs)\u001b[0m\n\u001b[1;32m    329\u001b[0m                     \u001b[0mstacklevel\u001b[0m\u001b[0;34m=\u001b[0m\u001b[0mfind_stack_level\u001b[0m\u001b[0;34m(\u001b[0m\u001b[0;34m)\u001b[0m\u001b[0;34m,\u001b[0m\u001b[0;34m\u001b[0m\u001b[0;34m\u001b[0m\u001b[0m\n\u001b[1;32m    330\u001b[0m                 )\n\u001b[0;32m--> 331\u001b[0;31m             \u001b[0;32mreturn\u001b[0m \u001b[0mfunc\u001b[0m\u001b[0;34m(\u001b[0m\u001b[0;34m*\u001b[0m\u001b[0margs\u001b[0m\u001b[0;34m,\u001b[0m \u001b[0;34m**\u001b[0m\u001b[0mkwargs\u001b[0m\u001b[0;34m)\u001b[0m\u001b[0;34m\u001b[0m\u001b[0;34m\u001b[0m\u001b[0m\n\u001b[0m\u001b[1;32m    332\u001b[0m \u001b[0;34m\u001b[0m\u001b[0m\n\u001b[1;32m    333\u001b[0m         \u001b[0;31m# error: \"Callable[[VarArg(Any), KwArg(Any)], Any]\" has no\u001b[0m\u001b[0;34m\u001b[0m\u001b[0;34m\u001b[0m\u001b[0m\n",
            "\u001b[0;32m/usr/local/lib/python3.10/dist-packages/pandas/io/parsers/readers.py\u001b[0m in \u001b[0;36mread_csv\u001b[0;34m(filepath_or_buffer, sep, delimiter, header, names, index_col, usecols, squeeze, prefix, mangle_dupe_cols, dtype, engine, converters, true_values, false_values, skipinitialspace, skiprows, skipfooter, nrows, na_values, keep_default_na, na_filter, verbose, skip_blank_lines, parse_dates, infer_datetime_format, keep_date_col, date_parser, dayfirst, cache_dates, iterator, chunksize, compression, thousands, decimal, lineterminator, quotechar, quoting, doublequote, escapechar, comment, encoding, encoding_errors, dialect, error_bad_lines, warn_bad_lines, on_bad_lines, delim_whitespace, low_memory, memory_map, float_precision, storage_options)\u001b[0m\n\u001b[1;32m    948\u001b[0m     \u001b[0mkwds\u001b[0m\u001b[0;34m.\u001b[0m\u001b[0mupdate\u001b[0m\u001b[0;34m(\u001b[0m\u001b[0mkwds_defaults\u001b[0m\u001b[0;34m)\u001b[0m\u001b[0;34m\u001b[0m\u001b[0;34m\u001b[0m\u001b[0m\n\u001b[1;32m    949\u001b[0m \u001b[0;34m\u001b[0m\u001b[0m\n\u001b[0;32m--> 950\u001b[0;31m     \u001b[0;32mreturn\u001b[0m \u001b[0m_read\u001b[0m\u001b[0;34m(\u001b[0m\u001b[0mfilepath_or_buffer\u001b[0m\u001b[0;34m,\u001b[0m \u001b[0mkwds\u001b[0m\u001b[0;34m)\u001b[0m\u001b[0;34m\u001b[0m\u001b[0;34m\u001b[0m\u001b[0m\n\u001b[0m\u001b[1;32m    951\u001b[0m \u001b[0;34m\u001b[0m\u001b[0m\n\u001b[1;32m    952\u001b[0m \u001b[0;34m\u001b[0m\u001b[0m\n",
            "\u001b[0;32m/usr/local/lib/python3.10/dist-packages/pandas/io/parsers/readers.py\u001b[0m in \u001b[0;36m_read\u001b[0;34m(filepath_or_buffer, kwds)\u001b[0m\n\u001b[1;32m    603\u001b[0m \u001b[0;34m\u001b[0m\u001b[0m\n\u001b[1;32m    604\u001b[0m     \u001b[0;31m# Create the parser.\u001b[0m\u001b[0;34m\u001b[0m\u001b[0;34m\u001b[0m\u001b[0m\n\u001b[0;32m--> 605\u001b[0;31m     \u001b[0mparser\u001b[0m \u001b[0;34m=\u001b[0m \u001b[0mTextFileReader\u001b[0m\u001b[0;34m(\u001b[0m\u001b[0mfilepath_or_buffer\u001b[0m\u001b[0;34m,\u001b[0m \u001b[0;34m**\u001b[0m\u001b[0mkwds\u001b[0m\u001b[0;34m)\u001b[0m\u001b[0;34m\u001b[0m\u001b[0;34m\u001b[0m\u001b[0m\n\u001b[0m\u001b[1;32m    606\u001b[0m \u001b[0;34m\u001b[0m\u001b[0m\n\u001b[1;32m    607\u001b[0m     \u001b[0;32mif\u001b[0m \u001b[0mchunksize\u001b[0m \u001b[0;32mor\u001b[0m \u001b[0miterator\u001b[0m\u001b[0;34m:\u001b[0m\u001b[0;34m\u001b[0m\u001b[0;34m\u001b[0m\u001b[0m\n",
            "\u001b[0;32m/usr/local/lib/python3.10/dist-packages/pandas/io/parsers/readers.py\u001b[0m in \u001b[0;36m__init__\u001b[0;34m(self, f, engine, **kwds)\u001b[0m\n\u001b[1;32m   1440\u001b[0m \u001b[0;34m\u001b[0m\u001b[0m\n\u001b[1;32m   1441\u001b[0m         \u001b[0mself\u001b[0m\u001b[0;34m.\u001b[0m\u001b[0mhandles\u001b[0m\u001b[0;34m:\u001b[0m \u001b[0mIOHandles\u001b[0m \u001b[0;34m|\u001b[0m \u001b[0;32mNone\u001b[0m \u001b[0;34m=\u001b[0m \u001b[0;32mNone\u001b[0m\u001b[0;34m\u001b[0m\u001b[0;34m\u001b[0m\u001b[0m\n\u001b[0;32m-> 1442\u001b[0;31m         \u001b[0mself\u001b[0m\u001b[0;34m.\u001b[0m\u001b[0m_engine\u001b[0m \u001b[0;34m=\u001b[0m \u001b[0mself\u001b[0m\u001b[0;34m.\u001b[0m\u001b[0m_make_engine\u001b[0m\u001b[0;34m(\u001b[0m\u001b[0mf\u001b[0m\u001b[0;34m,\u001b[0m \u001b[0mself\u001b[0m\u001b[0;34m.\u001b[0m\u001b[0mengine\u001b[0m\u001b[0;34m)\u001b[0m\u001b[0;34m\u001b[0m\u001b[0;34m\u001b[0m\u001b[0m\n\u001b[0m\u001b[1;32m   1443\u001b[0m \u001b[0;34m\u001b[0m\u001b[0m\n\u001b[1;32m   1444\u001b[0m     \u001b[0;32mdef\u001b[0m \u001b[0mclose\u001b[0m\u001b[0;34m(\u001b[0m\u001b[0mself\u001b[0m\u001b[0;34m)\u001b[0m \u001b[0;34m->\u001b[0m \u001b[0;32mNone\u001b[0m\u001b[0;34m:\u001b[0m\u001b[0;34m\u001b[0m\u001b[0;34m\u001b[0m\u001b[0m\n",
            "\u001b[0;32m/usr/local/lib/python3.10/dist-packages/pandas/io/parsers/readers.py\u001b[0m in \u001b[0;36m_make_engine\u001b[0;34m(self, f, engine)\u001b[0m\n\u001b[1;32m   1733\u001b[0m                 \u001b[0;32mif\u001b[0m \u001b[0;34m\"b\"\u001b[0m \u001b[0;32mnot\u001b[0m \u001b[0;32min\u001b[0m \u001b[0mmode\u001b[0m\u001b[0;34m:\u001b[0m\u001b[0;34m\u001b[0m\u001b[0;34m\u001b[0m\u001b[0m\n\u001b[1;32m   1734\u001b[0m                     \u001b[0mmode\u001b[0m \u001b[0;34m+=\u001b[0m \u001b[0;34m\"b\"\u001b[0m\u001b[0;34m\u001b[0m\u001b[0;34m\u001b[0m\u001b[0m\n\u001b[0;32m-> 1735\u001b[0;31m             self.handles = get_handle(\n\u001b[0m\u001b[1;32m   1736\u001b[0m                 \u001b[0mf\u001b[0m\u001b[0;34m,\u001b[0m\u001b[0;34m\u001b[0m\u001b[0;34m\u001b[0m\u001b[0m\n\u001b[1;32m   1737\u001b[0m                 \u001b[0mmode\u001b[0m\u001b[0;34m,\u001b[0m\u001b[0;34m\u001b[0m\u001b[0;34m\u001b[0m\u001b[0m\n",
            "\u001b[0;32m/usr/local/lib/python3.10/dist-packages/pandas/io/common.py\u001b[0m in \u001b[0;36mget_handle\u001b[0;34m(path_or_buf, mode, encoding, compression, memory_map, is_text, errors, storage_options)\u001b[0m\n\u001b[1;32m    854\u001b[0m         \u001b[0;32mif\u001b[0m \u001b[0mioargs\u001b[0m\u001b[0;34m.\u001b[0m\u001b[0mencoding\u001b[0m \u001b[0;32mand\u001b[0m \u001b[0;34m\"b\"\u001b[0m \u001b[0;32mnot\u001b[0m \u001b[0;32min\u001b[0m \u001b[0mioargs\u001b[0m\u001b[0;34m.\u001b[0m\u001b[0mmode\u001b[0m\u001b[0;34m:\u001b[0m\u001b[0;34m\u001b[0m\u001b[0;34m\u001b[0m\u001b[0m\n\u001b[1;32m    855\u001b[0m             \u001b[0;31m# Encoding\u001b[0m\u001b[0;34m\u001b[0m\u001b[0;34m\u001b[0m\u001b[0m\n\u001b[0;32m--> 856\u001b[0;31m             handle = open(\n\u001b[0m\u001b[1;32m    857\u001b[0m                 \u001b[0mhandle\u001b[0m\u001b[0;34m,\u001b[0m\u001b[0;34m\u001b[0m\u001b[0;34m\u001b[0m\u001b[0m\n\u001b[1;32m    858\u001b[0m                 \u001b[0mioargs\u001b[0m\u001b[0;34m.\u001b[0m\u001b[0mmode\u001b[0m\u001b[0;34m,\u001b[0m\u001b[0;34m\u001b[0m\u001b[0;34m\u001b[0m\u001b[0m\n",
            "\u001b[0;31mFileNotFoundError\u001b[0m: [Errno 2] No such file or directory: 'cervical_cancer.csv'"
          ]
        }
      ],
      "source": [
        "risk_factor_df = pd.read_csv(\"cervical_cancer.csv\")\n",
        "risk_factor_df.head()"
      ]
    },
    {
      "cell_type": "code",
      "execution_count": null,
      "id": "0a25e6ad",
      "metadata": {
        "execution": {
          "iopub.execute_input": "2022-07-05T19:05:58.184077Z",
          "iopub.status.busy": "2022-07-05T19:05:58.183474Z",
          "iopub.status.idle": "2022-07-05T19:05:58.212834Z",
          "shell.execute_reply": "2022-07-05T19:05:58.211831Z"
        },
        "papermill": {
          "duration": 0.052313,
          "end_time": "2022-07-05T19:05:58.215725",
          "exception": false,
          "start_time": "2022-07-05T19:05:58.163412",
          "status": "completed"
        },
        "tags": [],
        "id": "0a25e6ad"
      },
      "outputs": [],
      "source": [
        "risk_factor_df.info()"
      ]
    },
    {
      "cell_type": "code",
      "execution_count": null,
      "id": "11f6b691",
      "metadata": {
        "execution": {
          "iopub.execute_input": "2022-07-05T19:05:58.291237Z",
          "iopub.status.busy": "2022-07-05T19:05:58.290404Z",
          "iopub.status.idle": "2022-07-05T19:05:58.299561Z",
          "shell.execute_reply": "2022-07-05T19:05:58.298668Z"
        },
        "papermill": {
          "duration": 0.030697,
          "end_time": "2022-07-05T19:05:58.301988",
          "exception": false,
          "start_time": "2022-07-05T19:05:58.271291",
          "status": "completed"
        },
        "tags": [],
        "id": "11f6b691"
      },
      "outputs": [],
      "source": [
        "def print_unique_values_df(df: pd.DataFrame):\n",
        "    for col in list(df):\n",
        "        print(\"Unique Values for \"'{}'\":{}\".format(str(col), risk_factor_df[col].unique()))\n",
        "        print(\"dtype for {} is :{}\".format(str(col), risk_factor_df[col].dtypes))\n",
        "        print(\"-\" * 150)\n",
        "\n",
        "\n",
        "def print_unique_values_for_col(df: pd.DataFrame, col_names: List[str] = None):\n",
        "    for col in col_names:\n",
        "        print(\"Unique Values for \"'{}'\":{}\".format(str(col), risk_factor_df[col].unique()))"
      ]
    },
    {
      "cell_type": "code",
      "execution_count": null,
      "id": "c9455ccd",
      "metadata": {
        "execution": {
          "iopub.execute_input": "2022-07-05T19:05:58.385743Z",
          "iopub.status.busy": "2022-07-05T19:05:58.385233Z",
          "iopub.status.idle": "2022-07-05T19:05:58.433821Z",
          "shell.execute_reply": "2022-07-05T19:05:58.432997Z"
        },
        "papermill": {
          "duration": 0.071186,
          "end_time": "2022-07-05T19:05:58.436210",
          "exception": false,
          "start_time": "2022-07-05T19:05:58.365024",
          "status": "completed"
        },
        "tags": [],
        "id": "c9455ccd"
      },
      "outputs": [],
      "source": [
        "cols_to_convert = ['Number of sexual partners', 'First sexual intercourse', 'Num of pregnancies', 'Smokes',\n",
        "                   'Smokes (years)', 'Smokes (packs/year)', 'Hormonal Contraceptives',\n",
        "                   'Hormonal Contraceptives (years)', 'IUD', 'IUD (years)', 'STDs', 'STDs (number)',\n",
        "                   'STDs:condylomatosis', 'STDs:cervical condylomatosis', 'STDs:vaginal condylomatosis',\n",
        "                   'STDs:vulvo-perineal condylomatosis', 'STDs:syphilis', 'STDs:pelvic inflammatory disease',\n",
        "                   'STDs:genital herpes', 'STDs:molluscum contagiosum', 'STDs:AIDS', 'STDs:HIV', 'STDs:Hepatitis B',\n",
        "                   'STDs:HPV', 'STDs: Time since first diagnosis',\n",
        "                   'STDs: Time since last diagnosis']\n",
        "# for i in range(0,len(cols_to_convert)):\n",
        "#     print(\"{}={}\".format(i,cols_to_convert[i]))\n",
        "risk_factor_df[cols_to_convert] = risk_factor_df[cols_to_convert].apply(pd.to_numeric, errors=\"coerce\")\n",
        "risk_factor_df[cols_to_convert].fillna(np.nan, inplace=True)\n",
        "imp = SimpleImputer(strategy=\"median\")\n",
        "X = imp.fit_transform(risk_factor_df)\n",
        "risk_factor_df = pd.DataFrame(X, columns=list(risk_factor_df.columns))"
      ]
    },
    {
      "cell_type": "code",
      "execution_count": null,
      "id": "a1bc13db",
      "metadata": {
        "execution": {
          "iopub.execute_input": "2022-07-05T19:05:58.477306Z",
          "iopub.status.busy": "2022-07-05T19:05:58.476932Z",
          "iopub.status.idle": "2022-07-05T19:05:58.486501Z",
          "shell.execute_reply": "2022-07-05T19:05:58.485734Z"
        },
        "papermill": {
          "duration": 0.033959,
          "end_time": "2022-07-05T19:05:58.488420",
          "exception": false,
          "start_time": "2022-07-05T19:05:58.454461",
          "status": "completed"
        },
        "tags": [],
        "id": "a1bc13db"
      },
      "outputs": [],
      "source": [
        "def age_cat(age):\n",
        "    if age < 12:\n",
        "        return \"Child\"\n",
        "    elif age < 20:\n",
        "        return \"Teen\"\n",
        "    elif age < 30:\n",
        "        return \"20's\"\n",
        "    elif age < 40:\n",
        "        return \"30's\"\n",
        "    elif age < 50:\n",
        "        return \"40's\"\n",
        "    elif age < 60:\n",
        "        return \"50's\"\n",
        "    elif age < 70:\n",
        "        return \"60's\"\n",
        "    else:\n",
        "        return \"70+\"\n",
        "\n",
        "\n",
        "risk_factor_df[\"Age\"] = risk_factor_df[\"Age\"].astype(int)\n",
        "risk_factor_df[\"age_cat\"] = risk_factor_df[\"Age\"].apply(age_cat)"
      ]
    },
    {
      "cell_type": "code",
      "execution_count": null,
      "id": "7b0c564a",
      "metadata": {
        "execution": {
          "iopub.execute_input": "2022-07-05T19:05:58.526455Z",
          "iopub.status.busy": "2022-07-05T19:05:58.525813Z",
          "iopub.status.idle": "2022-07-05T19:05:58.541487Z",
          "shell.execute_reply": "2022-07-05T19:05:58.540657Z"
        },
        "papermill": {
          "duration": 0.03713,
          "end_time": "2022-07-05T19:05:58.543766",
          "exception": false,
          "start_time": "2022-07-05T19:05:58.506636",
          "status": "completed"
        },
        "tags": [],
        "id": "7b0c564a"
      },
      "outputs": [],
      "source": [
        "std_cols = {'STDs:condylomatosis',\n",
        "            'STDs:cervical condylomatosis',\n",
        "            'STDs:vaginal condylomatosis',\n",
        "            'STDs:vulvo-perineal condylomatosis',\n",
        "            'STDs:syphilis',\n",
        "            'STDs:pelvic inflammatory disease',\n",
        "            'STDs:genital herpes',\n",
        "            'STDs:molluscum contagiosum',\n",
        "            'STDs:AIDS',\n",
        "            'STDs:HIV',\n",
        "            'STDs:Hepatitis B',\n",
        "            'STDs:HPV'}\n",
        "\n",
        "risk_factor_df[\"total_std\"] = risk_factor_df[list(std_cols)].sum(axis=1)\n",
        "std_agg = risk_factor_df.groupby(\"age_cat\", as_index=False)[list(std_cols)].sum()"
      ]
    },
    {
      "cell_type": "code",
      "execution_count": null,
      "id": "9bada5a9",
      "metadata": {
        "execution": {
          "iopub.execute_input": "2022-07-05T19:05:58.582249Z",
          "iopub.status.busy": "2022-07-05T19:05:58.581630Z",
          "iopub.status.idle": "2022-07-05T19:05:58.587976Z",
          "shell.execute_reply": "2022-07-05T19:05:58.587211Z"
        },
        "papermill": {
          "duration": 0.02798,
          "end_time": "2022-07-05T19:05:58.590193",
          "exception": false,
          "start_time": "2022-07-05T19:05:58.562213",
          "status": "completed"
        },
        "tags": [],
        "id": "9bada5a9"
      },
      "outputs": [],
      "source": [
        "test_cols = [\"Hinselmann\", \"Schiller\", \"Citology\", \"Biopsy\"]\n",
        "risk_factor_df[\"total_tests\"] = risk_factor_df[test_cols].sum(axis = 1)"
      ]
    },
    {
      "cell_type": "code",
      "execution_count": null,
      "id": "50b8bdca",
      "metadata": {
        "execution": {
          "iopub.execute_input": "2022-07-05T19:05:58.629168Z",
          "iopub.status.busy": "2022-07-05T19:05:58.628549Z",
          "iopub.status.idle": "2022-07-05T19:05:58.648765Z",
          "shell.execute_reply": "2022-07-05T19:05:58.647909Z"
        },
        "papermill": {
          "duration": 0.042511,
          "end_time": "2022-07-05T19:05:58.651085",
          "exception": false,
          "start_time": "2022-07-05T19:05:58.608574",
          "status": "completed"
        },
        "tags": [],
        "id": "50b8bdca"
      },
      "outputs": [],
      "source": [
        "to_int_and_beyond = {\"total_tests\",\n",
        "                     \"total_std\",\n",
        "                     \"Smokes\",\n",
        "                     \"Biopsy\",\n",
        "                     \"Dx:Cancer\",\n",
        "                     \"Num of pregnancies\",\n",
        "                     \"Number of sexual partners\",\n",
        "                     \"First sexual intercourse\",\n",
        "                     \"Hormonal Contraceptives\",\n",
        "                     \"IUD\",\n",
        "                     \"STDs\",\n",
        "                     \"STDs (number)\",\n",
        "                     \"STDs: Number of diagnosis\",\n",
        "                     \"Dx:CIN\",\n",
        "                     \"Dx:HPV\",\n",
        "                     \"Dx\",\n",
        "                     \"Hinselmann\",\n",
        "                     \"Schiller\",\n",
        "                     \"Biopsy\",\n",
        "                     \"Citology\"}\n",
        "\n",
        "to_int_and_beyond = to_int_and_beyond.union(std_cols)\n",
        "\n",
        "for col in to_int_and_beyond:\n",
        "    risk_factor_df[col] = risk_factor_df[col].astype(int)"
      ]
    },
    {
      "cell_type": "code",
      "execution_count": null,
      "id": "80346228",
      "metadata": {
        "execution": {
          "iopub.execute_input": "2022-07-05T19:05:58.689847Z",
          "iopub.status.busy": "2022-07-05T19:05:58.689217Z",
          "iopub.status.idle": "2022-07-05T19:05:58.711615Z",
          "shell.execute_reply": "2022-07-05T19:05:58.710690Z"
        },
        "papermill": {
          "duration": 0.045781,
          "end_time": "2022-07-05T19:05:58.714981",
          "exception": false,
          "start_time": "2022-07-05T19:05:58.669200",
          "status": "completed"
        },
        "tags": [],
        "id": "80346228"
      },
      "outputs": [],
      "source": [
        "risk_factor_df.info()"
      ]
    },
    {
      "cell_type": "code",
      "execution_count": null,
      "id": "8d3e74cc",
      "metadata": {
        "execution": {
          "iopub.execute_input": "2022-07-05T19:06:00.055902Z",
          "iopub.status.busy": "2022-07-05T19:06:00.054667Z",
          "iopub.status.idle": "2022-07-05T19:06:00.238150Z",
          "shell.execute_reply": "2022-07-05T19:06:00.237166Z"
        },
        "papermill": {
          "duration": 0.218561,
          "end_time": "2022-07-05T19:06:00.242371",
          "exception": false,
          "start_time": "2022-07-05T19:06:00.023810",
          "status": "completed"
        },
        "tags": [],
        "id": "8d3e74cc"
      },
      "outputs": [],
      "source": [
        "age_dist = px.histogram(risk_factor_df, x=\"Age\", marginal=\"box\", color_discrete_sequence=[\"palevioletred\"])\n",
        "age_dist.update_layout(title=\"Age distribution\")\n",
        "age_dist.show()"
      ]
    },
    {
      "cell_type": "code",
      "execution_count": null,
      "id": "9a3f37ed",
      "metadata": {
        "execution": {
          "iopub.execute_input": "2022-07-05T19:06:00.325862Z",
          "iopub.status.busy": "2022-07-05T19:06:00.325089Z",
          "iopub.status.idle": "2022-07-05T19:06:00.409945Z",
          "shell.execute_reply": "2022-07-05T19:06:00.409165Z"
        },
        "papermill": {
          "duration": 0.131308,
          "end_time": "2022-07-05T19:06:00.414020",
          "exception": false,
          "start_time": "2022-07-05T19:06:00.282712",
          "status": "completed"
        },
        "tags": [],
        "id": "9a3f37ed"
      },
      "outputs": [],
      "source": [
        "age_preg_bar = px.box(risk_factor_df, x=\"age_cat\", y=\"Num of pregnancies\",\n",
        "                      color_discrete_sequence=[\"darkblue\"], points=\"outliers\",\n",
        "                      category_orders=[\"Teenager\", \"Twenties\", \"Thirties\", \"Forties\", \"Fifties\",\n",
        "                                       \"Seventy and over\"])\n",
        "age_preg_bar.update_xaxes(title=\"Age Category\")\n",
        "age_preg_bar.update_yaxes(title=\"Number of Pregnancies\")\n",
        "age_preg_bar.update_layout(title=\"Distribution of number of pregnancies per age group\")\n",
        "age_preg_bar.show()"
      ]
    },
    {
      "cell_type": "code",
      "execution_count": null,
      "id": "2f862c63",
      "metadata": {
        "execution": {
          "iopub.execute_input": "2022-07-05T19:06:01.844512Z",
          "iopub.status.busy": "2022-07-05T19:06:01.844060Z",
          "iopub.status.idle": "2022-07-05T19:06:01.905696Z",
          "shell.execute_reply": "2022-07-05T19:06:01.904182Z"
        },
        "papermill": {
          "duration": 0.131339,
          "end_time": "2022-07-05T19:06:01.908046",
          "exception": false,
          "start_time": "2022-07-05T19:06:01.776707",
          "status": "completed"
        },
        "tags": [],
        "id": "2f862c63"
      },
      "outputs": [],
      "source": [
        "diagnoses_num_partner_compare_cols = ['Dx:Cancer',\n",
        "                                      'Dx:HPV',\n",
        "                                      \"Number of sexual partners\",]\n",
        "corr_matrix = risk_factor_df[diagnoses_num_partner_compare_cols].corr()\n",
        "print(corr_matrix)\n",
        "diagnoses_num_partner_heatmap = px.imshow(corr_matrix,\n",
        "                              aspect=\"auto\",\n",
        "                              color_continuous_scale=\"gnbu\",\n",
        "                              text_auto=True)\n",
        "diagnoses_num_partner_heatmap.show()"
      ]
    },
    {
      "cell_type": "code",
      "execution_count": null,
      "id": "be3d2ead",
      "metadata": {
        "execution": {
          "iopub.execute_input": "2022-07-05T19:06:02.200480Z",
          "iopub.status.busy": "2022-07-05T19:06:02.200052Z",
          "iopub.status.idle": "2022-07-05T19:06:02.260379Z",
          "shell.execute_reply": "2022-07-05T19:06:02.258475Z"
        },
        "papermill": {
          "duration": 0.135669,
          "end_time": "2022-07-05T19:06:02.262791",
          "exception": false,
          "start_time": "2022-07-05T19:06:02.127122",
          "status": "completed"
        },
        "tags": [],
        "id": "be3d2ead"
      },
      "outputs": [],
      "source": [
        "diagnoses_cols = ['Dx:Cancer',\n",
        "                  'Dx:CIN',\n",
        "                  'Dx:HPV']\n",
        "diagnoses_corr_matrix = risk_factor_df[diagnoses_cols].corr()\n",
        "print(diagnoses_corr_matrix)\n",
        "diagnoses_heatmap = px.imshow(diagnoses_corr_matrix, aspect=\"auto\", color_continuous_scale=\"tealgrn\", text_auto=True)\n",
        "diagnoses_heatmap.show()"
      ]
    },
    {
      "cell_type": "code",
      "execution_count": null,
      "id": "e7fe0d11",
      "metadata": {
        "execution": {
          "iopub.execute_input": "2022-07-05T19:06:02.580831Z",
          "iopub.status.busy": "2022-07-05T19:06:02.580420Z",
          "iopub.status.idle": "2022-07-05T19:06:02.741518Z",
          "shell.execute_reply": "2022-07-05T19:06:02.740348Z"
        },
        "papermill": {
          "duration": 0.245419,
          "end_time": "2022-07-05T19:06:02.745253",
          "exception": false,
          "start_time": "2022-07-05T19:06:02.499834",
          "status": "completed"
        },
        "tags": [],
        "id": "e7fe0d11"
      },
      "outputs": [],
      "source": [
        "fig = px.histogram(std_agg, x=\"age_cat\", y=list(std_cols), barmode=\"group\", histfunc=\"sum\")\n",
        "fig.update_layout(title=\"Sum of STD occurence across age categories\")\n",
        "fig.update_xaxes(title=\"Age Category\")\n",
        "fig.update_yaxes(title=\"Sum\")\n",
        "fig.show()"
      ]
    },
    {
      "cell_type": "code",
      "execution_count": null,
      "id": "7fb5a104",
      "metadata": {
        "execution": {
          "iopub.execute_input": "2022-07-05T19:06:03.097259Z",
          "iopub.status.busy": "2022-07-05T19:06:03.096824Z",
          "iopub.status.idle": "2022-07-05T19:06:03.389333Z",
          "shell.execute_reply": "2022-07-05T19:06:03.388283Z"
        },
        "papermill": {
          "duration": 0.38676,
          "end_time": "2022-07-05T19:06:03.393791",
          "exception": false,
          "start_time": "2022-07-05T19:06:03.007031",
          "status": "completed"
        },
        "tags": [],
        "id": "7fb5a104"
      },
      "outputs": [],
      "source": [
        "fig = px.histogram(risk_factor_df.query(\"total_std>=0\").sort_values(by=[\"total_std\", \"Dx:Cancer\"], ascending=True),\n",
        "                   x=\"age_cat\",\n",
        "                   facet_col=\"total_std\",\n",
        "                   facet_row=\"Dx:Cancer\",\n",
        "                   color_discrete_sequence=[\"rebeccapurple\"],\n",
        "                   opacity=0.7)\n",
        "fig.update_layout(title=\"Count of women across age groups who have had one or more std\")\n",
        "\n",
        "fig.show()"
      ]
    },
    {
      "cell_type": "code",
      "execution_count": null,
      "id": "75e0d161",
      "metadata": {
        "execution": {
          "iopub.execute_input": "2022-07-05T19:06:03.591512Z",
          "iopub.status.busy": "2022-07-05T19:06:03.591090Z",
          "iopub.status.idle": "2022-07-05T19:06:03.853591Z",
          "shell.execute_reply": "2022-07-05T19:06:03.852573Z"
        },
        "papermill": {
          "duration": 0.366094,
          "end_time": "2022-07-05T19:06:03.857841",
          "exception": false,
          "start_time": "2022-07-05T19:06:03.491747",
          "status": "completed"
        },
        "tags": [],
        "id": "75e0d161"
      },
      "outputs": [],
      "source": [
        "fig = px.histogram(risk_factor_df.query(\"total_std>=0\").sort_values(by=[\"total_std\",\"Dx:HPV\"], ascending=True),\n",
        "                   x=\"age_cat\",\n",
        "                   facet_col=\"total_std\",\n",
        "                   facet_row=\"Dx:HPV\",\n",
        "                   color_discrete_sequence=[\"dodgerblue\"],\n",
        "                   opacity=0.7)\n",
        "fig.update_layout(title=\"Count of women across age groups who have had one or more std\")\n",
        "\n",
        "fig.show()"
      ]
    },
    {
      "cell_type": "code",
      "execution_count": null,
      "id": "230e2a38",
      "metadata": {
        "execution": {
          "iopub.execute_input": "2022-07-05T19:06:04.305654Z",
          "iopub.status.busy": "2022-07-05T19:06:04.305266Z",
          "iopub.status.idle": "2022-07-05T19:06:04.530838Z",
          "shell.execute_reply": "2022-07-05T19:06:04.530067Z"
        },
        "papermill": {
          "duration": 0.340558,
          "end_time": "2022-07-05T19:06:04.533768",
          "exception": false,
          "start_time": "2022-07-05T19:06:04.193210",
          "status": "completed"
        },
        "tags": [],
        "id": "230e2a38"
      },
      "outputs": [],
      "source": [
        "fig = px.histogram(risk_factor_df.query(\"total_tests>0\").sort_values(by=\"total_tests\", ascending=True),\n",
        "                   x=\"age_cat\",\n",
        "                   facet_col=\"total_tests\",\n",
        "                   facet_row=\"Dx:Cancer\",\n",
        "                   color_discrete_sequence=[\"blueviolet\"],\n",
        "                   opacity=0.8)\n",
        "fig.update_layout(title=\"Count of women across age groups who have had one or more test\")\n",
        "\n",
        "fig.show()"
      ]
    },
    {
      "cell_type": "code",
      "execution_count": null,
      "id": "a3d593d7",
      "metadata": {
        "execution": {
          "iopub.execute_input": "2022-07-05T19:06:04.841510Z",
          "iopub.status.busy": "2022-07-05T19:06:04.841082Z",
          "iopub.status.idle": "2022-07-05T19:06:05.094085Z",
          "shell.execute_reply": "2022-07-05T19:06:05.092366Z"
        },
        "papermill": {
          "duration": 0.44295,
          "end_time": "2022-07-05T19:06:05.098603",
          "exception": false,
          "start_time": "2022-07-05T19:06:04.655653",
          "status": "completed"
        },
        "tags": [],
        "id": "a3d593d7"
      },
      "outputs": [],
      "source": [
        "fig = px.histogram(risk_factor_df.query(\"total_tests>0\").sort_values(by=[\"total_tests\",\"Dx:HPV\"], ascending=True),\n",
        "                   x=\"age_cat\",\n",
        "                   facet_col=\"total_tests\",\n",
        "                   facet_row=\"Dx:HPV\",\n",
        "                   color_discrete_sequence=[\"coral\"],\n",
        "                   opacity=0.8)\n",
        "fig.update_layout(title=\"Count of women across age groups who have had one or more test\")\n",
        "\n",
        "fig.show()"
      ]
    },
    {
      "cell_type": "markdown",
      "id": "ad7ecd48",
      "metadata": {
        "papermill": {
          "duration": 0.128439,
          "end_time": "2022-07-05T19:06:05.372608",
          "exception": false,
          "start_time": "2022-07-05T19:06:05.244169",
          "status": "completed"
        },
        "tags": [],
        "id": "ad7ecd48"
      },
      "source": [
        "We see from the ECDF plot, that:\n",
        "\n",
        "* There is roughly a 95% probability that patients have smoked for less than 10 years\n",
        "* There is roughly a 99% probability that patients have used IUD's for less than 10 years\n",
        "* There is roughly a 99% probabilty that patients have used Hormonal Contraceptives for less than 10 years"
      ]
    },
    {
      "cell_type": "code",
      "execution_count": null,
      "id": "ae705ff6",
      "metadata": {
        "execution": {
          "iopub.execute_input": "2022-07-05T19:06:05.634375Z",
          "iopub.status.busy": "2022-07-05T19:06:05.633957Z",
          "iopub.status.idle": "2022-07-05T19:06:05.770332Z",
          "shell.execute_reply": "2022-07-05T19:06:05.769197Z"
        },
        "papermill": {
          "duration": 0.275971,
          "end_time": "2022-07-05T19:06:05.778295",
          "exception": false,
          "start_time": "2022-07-05T19:06:05.502324",
          "status": "completed"
        },
        "tags": [],
        "id": "ae705ff6"
      },
      "outputs": [],
      "source": [
        "fig = px.ecdf(risk_factor_df, x=[\"Smokes (years)\",\n",
        "                                 \"Hormonal Contraceptives (years)\",\n",
        "                                 \"IUD (years)\"],\n",
        "              color_discrete_sequence=[\"crimson\", \"deepskyblue\", \"chartreuse\"])\n",
        "fig.update_xaxes(title=\"Years\")\n",
        "fig.update_layout(title=\"ECDF Plot\")\n",
        "fig.show()"
      ]
    },
    {
      "cell_type": "code",
      "execution_count": null,
      "id": "4fecda2d",
      "metadata": {
        "execution": {
          "iopub.execute_input": "2022-07-05T19:06:06.411743Z",
          "iopub.status.busy": "2022-07-05T19:06:06.411365Z",
          "iopub.status.idle": "2022-07-05T19:06:06.549468Z",
          "shell.execute_reply": "2022-07-05T19:06:06.548288Z"
        },
        "papermill": {
          "duration": 0.299384,
          "end_time": "2022-07-05T19:06:06.552844",
          "exception": false,
          "start_time": "2022-07-05T19:06:06.253460",
          "status": "completed"
        },
        "tags": [],
        "id": "4fecda2d"
      },
      "outputs": [],
      "source": [
        "age_category_range = {\n",
        "    \"Age<12\": \"Child\",\n",
        "    \"Age>=12 & Age<20\": \"Teen\",\n",
        "    \"Age>=20 & Age<30\": \"20's\",\n",
        "    \"Age>=30 & Age<40\": \"30's\",\n",
        "    \"Age>=40 & Age<50\": \"40's\",\n",
        "    \"Age>=50 & Age<60\": \"50's\",\n",
        "    \"Age>=60 & Age<70\": \"60's\",\n",
        "    \"Age>=70\": \"70+\"}\n",
        "age_prop_dict = {}\n",
        "col = \"Age\"  # Just to get the count\n",
        "for age_range, category in age_category_range.items():\n",
        "    age_prop_dict[category] = risk_factor_df.query(age_range)[col].count() / len(risk_factor_df)\n",
        "\n",
        "proportion_samples_df = pd.DataFrame.from_dict(age_prop_dict, orient=\"index\",\n",
        "                                               columns=[ \"Sample Proportion\"])\n",
        "proportion_samples_df = proportion_samples_df.reset_index()\n",
        "proportion_samples_df.columns = proportion_samples_df.columns.str.replace(\"index\",\"Category\")\n",
        "fig = px.pie(proportion_samples_df,\n",
        "             values='Sample Proportion',\n",
        "             names=\"Category\",\n",
        "             title='Age Category proportion of women sampled',color_discrete_sequence=px.colors.sequential.Magenta)\n",
        "fig.show()\n",
        "proportion_samples_df"
      ]
    },
    {
      "cell_type": "code",
      "execution_count": null,
      "id": "62b5987f",
      "metadata": {
        "execution": {
          "iopub.execute_input": "2022-07-05T19:06:06.870062Z",
          "iopub.status.busy": "2022-07-05T19:06:06.869623Z",
          "iopub.status.idle": "2022-07-05T19:06:06.917547Z",
          "shell.execute_reply": "2022-07-05T19:06:06.916444Z"
        },
        "papermill": {
          "duration": 0.211369,
          "end_time": "2022-07-05T19:06:06.922313",
          "exception": false,
          "start_time": "2022-07-05T19:06:06.710944",
          "status": "completed"
        },
        "tags": [],
        "id": "62b5987f"
      },
      "outputs": [],
      "source": [
        "fig = make_subplots(rows=1, cols=2, specs=[[{'type': 'domain'}, {'type': 'domain'}]],\n",
        "                    subplot_titles=[\"Cancer\", \"HPV\"])\n",
        "fig.add_trace(go.Pie(labels=risk_factor_df[\"age_cat\"],\n",
        "                     values=risk_factor_df[\"Dx:Cancer\"],\n",
        "                     name=\"Cancer\", marker_colors=px.colors.sequential.RdBu),\n",
        "              1, 1)\n",
        "fig.add_trace(go.Pie(labels=risk_factor_df[\"age_cat\"],\n",
        "                     values=risk_factor_df[\"Dx:HPV\"],\n",
        "                     name=\"HPV\", marker_colors=px.colors.sequential.RdBu),\n",
        "              1, 2)\n",
        "\n",
        "fig.update_traces(hole=.0, hoverinfo=\"label+percent+name\")\n",
        "\n",
        "fig.update_layout(\n",
        "    title_text=\"Proportion of women across age categories with a diagnosis of Cancer, HPV\",\n",
        ")\n",
        "fig.show()\n"
      ]
    },
    {
      "cell_type": "code",
      "execution_count": null,
      "id": "dff16ffc",
      "metadata": {
        "execution": {
          "iopub.execute_input": "2022-07-05T19:06:08.376849Z",
          "iopub.status.busy": "2022-07-05T19:06:08.376418Z",
          "iopub.status.idle": "2022-07-05T19:06:08.463388Z",
          "shell.execute_reply": "2022-07-05T19:06:08.462631Z"
        },
        "papermill": {
          "duration": 0.265238,
          "end_time": "2022-07-05T19:06:08.465774",
          "exception": false,
          "start_time": "2022-07-05T19:06:08.200536",
          "status": "completed"
        },
        "tags": [],
        "id": "dff16ffc"
      },
      "outputs": [],
      "source": [
        "df_hormonal_compariosn = risk_factor_df.groupby([\"age_cat\"], as_index=False)[[\"IUD\", \"Hormonal Contraceptives\"]].sum()\n",
        "fig = px.histogram(df_hormonal_compariosn, x=\"age_cat\", y=[\"IUD\", \"Hormonal Contraceptives\"], barmode=\"group\"\n",
        "                   , color_discrete_sequence=[\"darkcyan\", \"mediumorchid\"])\n",
        "\n",
        "fig.update_xaxes(title=\"Age Category\")\n",
        "fig.update_yaxes(title=\"Count\")\n",
        "fig.update_layout(title=\"Age Ranges of women who use Contraceptives\")\n",
        "\n",
        "fig.show()"
      ]
    },
    {
      "cell_type": "code",
      "execution_count": null,
      "id": "f53bf2d8",
      "metadata": {
        "execution": {
          "iopub.execute_input": "2022-07-05T19:06:08.824596Z",
          "iopub.status.busy": "2022-07-05T19:06:08.823536Z",
          "iopub.status.idle": "2022-07-05T19:06:08.944327Z",
          "shell.execute_reply": "2022-07-05T19:06:08.943242Z"
        },
        "papermill": {
          "duration": 0.302805,
          "end_time": "2022-07-05T19:06:08.947242",
          "exception": false,
          "start_time": "2022-07-05T19:06:08.644437",
          "status": "completed"
        },
        "tags": [],
        "id": "f53bf2d8"
      },
      "outputs": [],
      "source": [
        "df_hormonal_contraceptives = risk_factor_df[\n",
        "    (risk_factor_df[\"Hormonal Contraceptives\"] == 1) & (risk_factor_df[\"IUD\"] == 0)]\n",
        "df_hormonal_contraceptives = df_hormonal_contraceptives.sort_values(by=[\"Smokes\", \"Dx:Cancer\"])\n",
        "fig = px.histogram(df_hormonal_contraceptives, x=\"age_cat\", color=\"Smokes\", barmode=\"group\", facet_col=\"Dx:Cancer\",\n",
        "                   color_discrete_sequence=[\"darkcyan\", \"crimson\"])\n",
        "fig.update_xaxes(title=\"Age Category\")\n",
        "fig.update_yaxes(title=\"Count\")\n",
        "fig.update_layout(title=\"Age Ranges of women who use Hormonal Contraceptives\")\n",
        "# fig.for_each_annotation(lambda a: a.update(text=a.text.split(\":\")[-1]))\n",
        "fig.show()"
      ]
    },
    {
      "cell_type": "code",
      "execution_count": null,
      "id": "eaa816b6",
      "metadata": {
        "execution": {
          "iopub.execute_input": "2022-07-05T19:06:09.331614Z",
          "iopub.status.busy": "2022-07-05T19:06:09.331026Z",
          "iopub.status.idle": "2022-07-05T19:06:09.440887Z",
          "shell.execute_reply": "2022-07-05T19:06:09.439845Z"
        },
        "papermill": {
          "duration": 0.307294,
          "end_time": "2022-07-05T19:06:09.443796",
          "exception": false,
          "start_time": "2022-07-05T19:06:09.136502",
          "status": "completed"
        },
        "tags": [],
        "id": "eaa816b6"
      },
      "outputs": [],
      "source": [
        "df_IUD_contraceptives = risk_factor_df[(risk_factor_df[\"Hormonal Contraceptives\"] == 0) & (risk_factor_df[\"IUD\"] == 1)]\n",
        "df_IUD_contraceptives = df_IUD_contraceptives.sort_values(by=[\"Smokes\", \"Dx:Cancer\"], ascending=True)\n",
        "fig = px.histogram(df_IUD_contraceptives, x=\"age_cat\", color=\"Smokes\", barmode=\"group\", facet_col=\"Dx:Cancer\",\n",
        "                   color_discrete_sequence=[\"darkcyan\", \"crimson\"])\n",
        "fig.update_xaxes(title=\"Age Category\")\n",
        "fig.update_yaxes(title=\"Sum of IUD Usage across age category\")\n",
        "fig.update_layout(title=\"Age Ranges of women who use IUD's\")\n",
        "fig.show()"
      ]
    },
    {
      "cell_type": "code",
      "execution_count": null,
      "id": "390614a8",
      "metadata": {
        "execution": {
          "iopub.execute_input": "2022-07-05T19:06:09.884544Z",
          "iopub.status.busy": "2022-07-05T19:06:09.884170Z",
          "iopub.status.idle": "2022-07-05T19:06:09.991526Z",
          "shell.execute_reply": "2022-07-05T19:06:09.990427Z"
        },
        "papermill": {
          "duration": 0.303351,
          "end_time": "2022-07-05T19:06:09.994396",
          "exception": false,
          "start_time": "2022-07-05T19:06:09.691045",
          "status": "completed"
        },
        "tags": [],
        "id": "390614a8"
      },
      "outputs": [],
      "source": [
        "df_both_contraceptives = risk_factor_df[(risk_factor_df[\"Hormonal Contraceptives\"] == 1) & (risk_factor_df[\"IUD\"] == 1)]\n",
        "df_both_contraceptives = df_both_contraceptives.sort_values(by=\"Smokes\")\n",
        "fig = px.histogram(df_both_contraceptives, x=\"age_cat\", color=\"Smokes\", barmode=\"group\", facet_col=\"Dx:Cancer\",\n",
        "                   color_discrete_sequence=[\"darkcyan\", \"crimson\"])\n",
        "fig.update_xaxes(title=\"Age Category\")\n",
        "fig.update_yaxes(title=\"Count\")\n",
        "fig.update_layout(title=\"Age Ranges of women who use BOTH Hormonal Contracepties and IUD's\")\n",
        "fig.show()"
      ]
    },
    {
      "cell_type": "code",
      "execution_count": null,
      "id": "bcb6c11f",
      "metadata": {
        "execution": {
          "iopub.execute_input": "2022-07-05T19:06:10.799154Z",
          "iopub.status.busy": "2022-07-05T19:06:10.798746Z",
          "iopub.status.idle": "2022-07-05T19:06:10.872000Z",
          "shell.execute_reply": "2022-07-05T19:06:10.870856Z"
        },
        "papermill": {
          "duration": 0.2777,
          "end_time": "2022-07-05T19:06:10.874434",
          "exception": false,
          "start_time": "2022-07-05T19:06:10.596734",
          "status": "completed"
        },
        "tags": [],
        "id": "bcb6c11f"
      },
      "outputs": [],
      "source": [
        "dx_cancer = px.histogram(risk_factor_df, y=\"Dx:Cancer\")\n",
        "dx_cancer.update_layout(bargap=0.2)\n",
        "dx_cancer.update_layout(title = \"Imbalanced Classes\")\n",
        "dx_cancer.show()"
      ]
    },
    {
      "cell_type": "code",
      "execution_count": null,
      "id": "b1224c37",
      "metadata": {
        "execution": {
          "iopub.execute_input": "2022-07-05T19:06:11.300808Z",
          "iopub.status.busy": "2022-07-05T19:06:11.299631Z",
          "iopub.status.idle": "2022-07-05T19:06:11.306545Z",
          "shell.execute_reply": "2022-07-05T19:06:11.305794Z"
        },
        "papermill": {
          "duration": 0.220638,
          "end_time": "2022-07-05T19:06:11.308703",
          "exception": false,
          "start_time": "2022-07-05T19:06:11.088065",
          "status": "completed"
        },
        "tags": [],
        "id": "b1224c37"
      },
      "outputs": [],
      "source": [
        "X = risk_factor_df.drop([\"Dx:Cancer\", \"age_cat\"], axis=1)\n",
        "y = risk_factor_df[\"Dx:Cancer\"].copy()"
      ]
    },
    {
      "cell_type": "code",
      "execution_count": null,
      "id": "4b65e20f",
      "metadata": {
        "execution": {
          "iopub.execute_input": "2022-07-05T19:06:13.148057Z",
          "iopub.status.busy": "2022-07-05T19:06:13.147087Z",
          "iopub.status.idle": "2022-07-05T19:06:13.154426Z",
          "shell.execute_reply": "2022-07-05T19:06:13.153582Z"
        },
        "papermill": {
          "duration": 0.218002,
          "end_time": "2022-07-05T19:06:13.156864",
          "exception": false,
          "start_time": "2022-07-05T19:06:12.938862",
          "status": "completed"
        },
        "tags": [],
        "id": "4b65e20f"
      },
      "outputs": [],
      "source": [
        "risk_factor_df[\"age_cat\"] = risk_factor_df[\"Age\"].apply(age_cat)"
      ]
    },
    {
      "cell_type": "code",
      "execution_count": null,
      "id": "b0e96b71",
      "metadata": {
        "execution": {
          "iopub.execute_input": "2022-07-05T19:06:13.582071Z",
          "iopub.status.busy": "2022-07-05T19:06:13.581323Z",
          "iopub.status.idle": "2022-07-05T19:06:13.657512Z",
          "shell.execute_reply": "2022-07-05T19:06:13.656440Z"
        },
        "papermill": {
          "duration": 0.293326,
          "end_time": "2022-07-05T19:06:13.661749",
          "exception": false,
          "start_time": "2022-07-05T19:06:13.368423",
          "status": "completed"
        },
        "tags": [],
        "id": "b0e96b71"
      },
      "outputs": [],
      "source": [
        "dx_cancer = px.histogram(risk_factor_df, y=\"Dx:Cancer\")\n",
        "dx_cancer.update_layout(bargap=0.2)\n",
        "dx_cancer.update_layout(title = \"Balanced Classes\")\n",
        "dx_cancer.show()"
      ]
    },
    {
      "cell_type": "markdown",
      "id": "d5129e8e",
      "metadata": {
        "papermill": {
          "duration": 0.224412,
          "end_time": "2022-07-05T19:06:14.160617",
          "exception": false,
          "start_time": "2022-07-05T19:06:13.936205",
          "status": "completed"
        },
        "tags": [],
        "id": "d5129e8e"
      },
      "source": [
        "[](http://)"
      ]
    },
    {
      "cell_type": "code",
      "execution_count": null,
      "id": "1b9f6a18",
      "metadata": {
        "execution": {
          "iopub.execute_input": "2022-07-05T19:06:15.045244Z",
          "iopub.status.busy": "2022-07-05T19:06:15.044803Z",
          "iopub.status.idle": "2022-07-05T19:06:15.063424Z",
          "shell.execute_reply": "2022-07-05T19:06:15.062583Z"
        },
        "papermill": {
          "duration": 0.244846,
          "end_time": "2022-07-05T19:06:15.065865",
          "exception": false,
          "start_time": "2022-07-05T19:06:14.821019",
          "status": "completed"
        },
        "tags": [],
        "id": "1b9f6a18"
      },
      "outputs": [],
      "source": [
        "train_set = None\n",
        "test_set = None\n",
        "split = StratifiedShuffleSplit(n_splits=1, test_size=0.2, random_state=42)\n",
        "for train_idx, test_idx in split.split(risk_factor_df, risk_factor_df[\"age_cat\"]):\n",
        "    train_set = risk_factor_df.loc[train_idx]\n",
        "    test_set = risk_factor_df.loc[test_idx]\n",
        "cols_to_drop = [\"age_cat\",\"total_std\",\"total_tests\"]\n",
        "for set_ in (train_set, test_set):\n",
        "    for col in cols_to_drop:\n",
        "        set_.drop(col, axis=1, inplace=True)\n",
        "\n"
      ]
    },
    {
      "cell_type": "code",
      "execution_count": null,
      "id": "e8b63806",
      "metadata": {
        "execution": {
          "iopub.execute_input": "2022-07-05T19:06:15.517257Z",
          "iopub.status.busy": "2022-07-05T19:06:15.516829Z",
          "iopub.status.idle": "2022-07-05T19:06:15.526027Z",
          "shell.execute_reply": "2022-07-05T19:06:15.524521Z"
        },
        "papermill": {
          "duration": 0.239149,
          "end_time": "2022-07-05T19:06:15.528492",
          "exception": false,
          "start_time": "2022-07-05T19:06:15.289343",
          "status": "completed"
        },
        "tags": [],
        "id": "e8b63806"
      },
      "outputs": [],
      "source": [
        "X_train = train_set.drop(\"Dx:Cancer\", axis=1)\n",
        "y_train = train_set[\"Dx:Cancer\"].copy()\n",
        "\n",
        "X_test = test_set.drop(\"Dx:Cancer\", axis=1)\n",
        "y_test = test_set[\"Dx:Cancer\"].copy()"
      ]
    },
    {
      "cell_type": "code",
      "execution_count": null,
      "id": "a62b4f07",
      "metadata": {
        "execution": {
          "iopub.execute_input": "2022-07-05T19:06:16.504324Z",
          "iopub.status.busy": "2022-07-05T19:06:16.503662Z",
          "iopub.status.idle": "2022-07-05T19:06:16.764918Z",
          "shell.execute_reply": "2022-07-05T19:06:16.763714Z"
        },
        "papermill": {
          "duration": 0.491609,
          "end_time": "2022-07-05T19:06:16.767374",
          "exception": false,
          "start_time": "2022-07-05T19:06:16.275765",
          "status": "completed"
        },
        "tags": [],
        "id": "a62b4f07"
      },
      "outputs": [],
      "source": [
        "XT = RobustScaler().fit_transform(X_train)\n",
        "pca = PCA(n_components=0.99)\n",
        "XT = pca.fit_transform(XT)\n",
        "\n",
        "dimensions = px.bar(x=range(pca.n_components_), y=pca.explained_variance_ratio_,\n",
        "                    color_discrete_sequence=[\"darkslateblue\"],\n",
        "                    labels={\"x\":\"PCA Feature\",\"y\":\"Explained Variance\"})\n",
        "dimensions.show()\n",
        "exp_var_cumul = np.cumsum(pca.explained_variance_ratio_)\n",
        "\n",
        "explained_variance = px.area(\n",
        "    x=range(1, exp_var_cumul.shape[0] + 1),\n",
        "    y=exp_var_cumul,\n",
        "    labels={\"x\": \"# Components\", \"y\": \"Explained Variance\"},\n",
        "    color_discrete_sequence=[\"darkorchid\"]\n",
        ")\n",
        "explained_variance.show()"
      ]
    },
    {
      "cell_type": "code",
      "execution_count": null,
      "id": "0f99fab7",
      "metadata": {
        "execution": {
          "iopub.execute_input": "2022-07-05T19:06:17.724276Z",
          "iopub.status.busy": "2022-07-05T19:06:17.723213Z",
          "iopub.status.idle": "2022-07-05T19:06:17.807969Z",
          "shell.execute_reply": "2022-07-05T19:06:17.805177Z"
        },
        "papermill": {
          "duration": 0.324732,
          "end_time": "2022-07-05T19:06:17.811969",
          "exception": false,
          "start_time": "2022-07-05T19:06:17.487237",
          "status": "completed"
        },
        "tags": [],
        "id": "0f99fab7"
      },
      "outputs": [],
      "source": [
        "pipeline = Pipeline([\n",
        "    (\"scaler\", RobustScaler()),\n",
        "    (\"pca\", PCA(n_components=13))\n",
        "])\n",
        "X_train = pipeline.fit_transform(X_train)\n",
        "X_test = pipeline.transform(X_test)"
      ]
    },
    {
      "cell_type": "code",
      "execution_count": null,
      "id": "f93fde29",
      "metadata": {
        "execution": {
          "iopub.execute_input": "2022-07-05T19:06:18.424829Z",
          "iopub.status.busy": "2022-07-05T19:06:18.424425Z",
          "iopub.status.idle": "2022-07-05T19:06:18.430070Z",
          "shell.execute_reply": "2022-07-05T19:06:18.429170Z"
        },
        "papermill": {
          "duration": 0.314378,
          "end_time": "2022-07-05T19:06:18.432347",
          "exception": false,
          "start_time": "2022-07-05T19:06:18.117969",
          "status": "completed"
        },
        "tags": [],
        "id": "f93fde29"
      },
      "outputs": [],
      "source": [
        "param_grid = {'C': np.logspace(-5, 8, 15)}\n",
        "logreg = LogisticRegression()\n",
        "logreg_cv = GridSearchCV(logreg, param_grid, cv=10)"
      ]
    },
    {
      "cell_type": "code",
      "execution_count": null,
      "id": "fac43ec2",
      "metadata": {
        "execution": {
          "iopub.execute_input": "2022-07-05T19:06:18.902797Z",
          "iopub.status.busy": "2022-07-05T19:06:18.902209Z",
          "iopub.status.idle": "2022-07-05T19:06:18.906981Z",
          "shell.execute_reply": "2022-07-05T19:06:18.906191Z"
        },
        "papermill": {
          "duration": 0.240967,
          "end_time": "2022-07-05T19:06:18.909516",
          "exception": false,
          "start_time": "2022-07-05T19:06:18.668549",
          "status": "completed"
        },
        "tags": [],
        "id": "fac43ec2"
      },
      "outputs": [],
      "source": [
        "rnd_clf = RandomForestClassifier(n_estimators=500, max_leaf_nodes=2, n_jobs=-1,\n",
        "                                 max_features=\"sqrt\")"
      ]
    },
    {
      "cell_type": "code",
      "execution_count": null,
      "id": "6cda6273",
      "metadata": {
        "execution": {
          "iopub.execute_input": "2022-07-05T19:06:19.387251Z",
          "iopub.status.busy": "2022-07-05T19:06:19.386398Z",
          "iopub.status.idle": "2022-07-05T19:06:19.392299Z",
          "shell.execute_reply": "2022-07-05T19:06:19.391009Z"
        },
        "papermill": {
          "duration": 0.244601,
          "end_time": "2022-07-05T19:06:19.394978",
          "exception": false,
          "start_time": "2022-07-05T19:06:19.150377",
          "status": "completed"
        },
        "tags": [],
        "id": "6cda6273"
      },
      "outputs": [],
      "source": [
        "knn_clf = KNeighborsClassifier()\n",
        "knn_param_grid = {\"n_neighbors\": list(np.arange(1, 10, 2))}\n",
        "knn_clf_cv = GridSearchCV(knn_clf, knn_param_grid, cv=10)"
      ]
    },
    {
      "cell_type": "code",
      "execution_count": null,
      "id": "60423f1b",
      "metadata": {
        "execution": {
          "iopub.execute_input": "2022-07-05T19:06:19.858433Z",
          "iopub.status.busy": "2022-07-05T19:06:19.857768Z",
          "iopub.status.idle": "2022-07-05T19:06:19.864222Z",
          "shell.execute_reply": "2022-07-05T19:06:19.863303Z"
        },
        "papermill": {
          "duration": 0.240436,
          "end_time": "2022-07-05T19:06:19.866159",
          "exception": false,
          "start_time": "2022-07-05T19:06:19.625723",
          "status": "completed"
        },
        "tags": [],
        "id": "60423f1b"
      },
      "outputs": [],
      "source": [
        "svm_clf = SVC()\n",
        "svc_param_grid = {'C': np.logspace(-3, 2, 6), 'gamma': np.logspace(-3, 2, 6), }\n",
        "svm_clf_cv = GridSearchCV(svm_clf, svc_param_grid, cv=5)"
      ]
    },
    {
      "cell_type": "code",
      "execution_count": null,
      "id": "c01a3acf",
      "metadata": {
        "execution": {
          "iopub.execute_input": "2022-07-05T19:06:20.329928Z",
          "iopub.status.busy": "2022-07-05T19:06:20.329305Z",
          "iopub.status.idle": "2022-07-05T19:06:43.233953Z",
          "shell.execute_reply": "2022-07-05T19:06:43.233176Z"
        },
        "papermill": {
          "duration": 23.140525,
          "end_time": "2022-07-05T19:06:43.236468",
          "exception": false,
          "start_time": "2022-07-05T19:06:20.095943",
          "status": "completed"
        },
        "tags": [],
        "id": "c01a3acf"
      },
      "outputs": [],
      "source": [
        "col_names = [\"Classifier Name\", \"Accuracy Score\", \"Precision Score\",\n",
        "             \"Recall Score\", \"F1 Score\"]\n",
        "summary_df = pd.DataFrame(columns=col_names)\n",
        "\n",
        "est_name = []\n",
        "est_acc = []\n",
        "precision_score = []\n",
        "recall_score = []\n",
        "f1score = []\n",
        "est_conf_matrix = []\n",
        "\n",
        "estimators = [\n",
        "    (\"LogisticRegression\", logreg_cv),\n",
        "    (\"RandomForestClassifier \", rnd_clf),\n",
        "    (\"KNeighborsClassifier\", knn_clf_cv),\n",
        "    (\"SupportVectorClassifier\", svm_clf_cv)]\n",
        "\n",
        "for i in range(0, len(estimators)):\n",
        "    clf_name = estimators[i][0]\n",
        "    clf = estimators[i][1]\n",
        "    clf.fit(X_train, y_train)\n",
        "    y_pred = clf.predict(X_test)\n",
        "    # print(pd.crosstab(y_test,y_pred,rownames=[\"Actual\"],colnames=[\"predicted\"],margins=True))\n",
        "    est_name.append(estimators[i][0])\n",
        "    est_acc.append(accuracy_score(y_test, y_pred))\n",
        "    scores = precision_recall_fscore_support(y_test, y_pred, average=\"weighted\")\n",
        "    precision_score.append(scores[0])\n",
        "    recall_score.append(scores[1])\n",
        "    f1score.append(scores[2])\n",
        "    est_conf_matrix.append(confusion_matrix(y_test,y_pred))\n",
        "\n",
        "\n",
        "summary_df[col_names[0]] = est_name\n",
        "summary_df[col_names[1]] = est_acc\n",
        "summary_df[col_names[2]] = precision_score\n",
        "summary_df[col_names[3]] = recall_score\n",
        "summary_df[col_names[4]] = f1score\n"
      ]
    },
    {
      "cell_type": "code",
      "execution_count": null,
      "id": "1dcd948c",
      "metadata": {
        "execution": {
          "iopub.execute_input": "2022-07-05T19:06:44.213990Z",
          "iopub.status.busy": "2022-07-05T19:06:44.213600Z",
          "iopub.status.idle": "2022-07-05T19:06:44.417014Z",
          "shell.execute_reply": "2022-07-05T19:06:44.416173Z"
        },
        "papermill": {
          "duration": 0.436345,
          "end_time": "2022-07-05T19:06:44.419380",
          "exception": false,
          "start_time": "2022-07-05T19:06:43.983035",
          "status": "completed"
        },
        "tags": [],
        "id": "1dcd948c"
      },
      "outputs": [],
      "source": [
        "color_scales = [\"agsunset\",\"teal\",\"purp\",\"viridis\"]\n",
        "for i in range(0,len(est_conf_matrix)):\n",
        "    heatmap = px.imshow(est_conf_matrix[i],aspect=\"auto\",\n",
        "                        text_auto=True,\n",
        "                        color_continuous_scale=color_scales[i])\n",
        "    heatmap.update_layout(title = est_name[i])\n",
        "    heatmap.update_xaxes(title=\"Predicted\")\n",
        "    heatmap.update_yaxes(title=\"Actual\")\n",
        "    heatmap.show()"
      ]
    },
    {
      "cell_type": "code",
      "execution_count": null,
      "id": "b3497c83",
      "metadata": {
        "execution": {
          "iopub.execute_input": "2022-07-05T19:06:44.939575Z",
          "iopub.status.busy": "2022-07-05T19:06:44.939133Z",
          "iopub.status.idle": "2022-07-05T19:06:45.033231Z",
          "shell.execute_reply": "2022-07-05T19:06:45.032165Z"
        },
        "papermill": {
          "duration": 0.356939,
          "end_time": "2022-07-05T19:06:45.035543",
          "exception": false,
          "start_time": "2022-07-05T19:06:44.678604",
          "status": "completed"
        },
        "tags": [],
        "id": "b3497c83"
      },
      "outputs": [],
      "source": [
        "acc_comparison = px.bar(summary_df, x=\"Classifier Name\",\n",
        "                        y=col_names[1:len(col_names)],\n",
        "                        color_discrete_sequence=[\"deeppink\",\n",
        "                                                 \"deepskyblue\",\n",
        "                                                 \"darkviolet\",\n",
        "                                                 \"darkorange\"],\n",
        "                        barmode=\"group\")\n",
        "acc_comparison.show()"
      ]
    }
  ],
  "metadata": {
    "kernelspec": {
      "display_name": "Python 3 (ipykernel)",
      "language": "python",
      "name": "python3"
    },
    "language_info": {
      "codemirror_mode": {
        "name": "ipython",
        "version": 3
      },
      "file_extension": ".py",
      "mimetype": "text/x-python",
      "name": "python",
      "nbconvert_exporter": "python",
      "pygments_lexer": "ipython3",
      "version": "3.9.12"
    },
    "papermill": {
      "default_parameters": {},
      "duration": 62.453474,
      "end_time": "2022-07-05T19:06:46.810434",
      "environment_variables": {},
      "exception": null,
      "input_path": "__notebook__.ipynb",
      "output_path": "__notebook__.ipynb",
      "parameters": {},
      "start_time": "2022-07-05T19:05:44.356960",
      "version": "2.3.4"
    },
    "colab": {
      "provenance": []
    }
  },
  "nbformat": 4,
  "nbformat_minor": 5
}